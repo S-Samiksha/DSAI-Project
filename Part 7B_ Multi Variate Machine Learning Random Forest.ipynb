{
 "cells": [
  {
   "cell_type": "markdown",
   "metadata": {},
   "source": [
    "# Multi Variate Analysis \n",
    "This jupyter python notebook conducts multi variate analysis relevant to the research question. The research questions is as follows: <br>\n",
    "<br>\n",
    "How different variables such as **actual delivery time**, **the difference between actual and estimated wait time**, **freight value**, **payment value**, **payment installment** affect the **review score** in each of the different **product type categories**, `Houseware`, `auto`, `furniture decor`, `computer accessories`, `health beauty`, `sports leisure`? <br>\n",
    "\n",
    "However, in this python notebook, random forest is used to help better the machine learning. Decision tree is not the best solution as seen in part 5. A decision tree is a single classification tree. A random forest on the other hand is a \"forest\", a multitude of classification trees. The random forest algorithm then decides which is the best tree with the lowest error rates. \n",
    "https://www.stat.berkeley.edu/~breiman/RandomForests/cc_home.htm \n"
   ]
  },
  {
   "cell_type": "raw",
   "metadata": {},
   "source": [
    "### Extracting the necessary CSVs provided"
   ]
  },
  {
   "cell_type": "code",
   "execution_count": 1,
   "metadata": {},
   "outputs": [],
   "source": [
    "import numpy as np # linear algebra\n",
    "import pandas as pd # data processing, CSV file I/O (e.g. pd.read_csv)\n",
    "import seaborn as sb\n",
    "import matplotlib.pyplot as plt # we only need pyplot\n",
    "sb.set() # set the default Seaborn style for graphics"
   ]
  },
  {
   "cell_type": "code",
   "execution_count": 2,
   "metadata": {},
   "outputs": [],
   "source": [
    "olist_orders_dataset = pd.read_csv(\"olist_orders_dataset.csv\")\n",
    "olist_order_reviews_dataset = pd.read_csv(\"olist_order_reviews_dataset.csv\")\n",
    "olist_order_payments_dataset = pd.read_csv(\"olist_order_payments_dataset.csv\")\n",
    "olist_order_items_dataset = pd.read_csv(\"olist_order_items_dataset.csv\")\n",
    "olist_products_dataset = pd.read_csv(\"olist_products_dataset.csv\")\n",
    "product_category_name_translation = pd.read_csv(\"product_category_name_translation.csv\")"
   ]
  },
  {
   "cell_type": "markdown",
   "metadata": {},
   "source": [
    "### Merging the Datasets"
   ]
  },
  {
   "cell_type": "code",
   "execution_count": 3,
   "metadata": {},
   "outputs": [],
   "source": [
    "olist_merge = olist_orders_dataset.merge(olist_order_reviews_dataset, on=\"order_id\", how = 'left')\n",
    "olist_merge = olist_merge.merge(olist_order_payments_dataset, on=\"order_id\", how = 'left')\n",
    "olist_merge = olist_merge.merge(olist_order_items_dataset, on=\"order_id\", how = 'left')\n",
    "olist_merge = olist_merge.merge(olist_products_dataset, on=\"product_id\", how = 'left')"
   ]
  },
  {
   "cell_type": "markdown",
   "metadata": {},
   "source": [
    "### Removing Duplicates and extracting needed variables "
   ]
  },
  {
   "cell_type": "code",
   "execution_count": 4,
   "metadata": {},
   "outputs": [],
   "source": [
    "olist_merge.drop_duplicates(subset=[\"review_score\", \"order_id\"], inplace = True)"
   ]
  },
  {
   "cell_type": "code",
   "execution_count": 5,
   "metadata": {},
   "outputs": [
    {
     "name": "stdout",
     "output_type": "stream",
     "text": [
      "<class 'pandas.core.frame.DataFrame'>\n",
      "Int64Index: 99650 entries, 0 to 119150\n",
      "Data columns (total 32 columns):\n",
      " #   Column                         Non-Null Count  Dtype  \n",
      "---  ------                         --------------  -----  \n",
      " 0   order_id                       99650 non-null  object \n",
      " 1   customer_id                    99650 non-null  object \n",
      " 2   order_status                   99650 non-null  object \n",
      " 3   order_purchase_timestamp       99650 non-null  object \n",
      " 4   order_approved_at              99490 non-null  object \n",
      " 5   order_delivered_carrier_date   97860 non-null  object \n",
      " 6   order_delivered_customer_date  96672 non-null  object \n",
      " 7   order_estimated_delivery_date  99650 non-null  object \n",
      " 8   review_id                      99650 non-null  object \n",
      " 9   review_score                   99650 non-null  int64  \n",
      " 10  review_comment_title           11704 non-null  object \n",
      " 11  review_comment_message         41646 non-null  object \n",
      " 12  review_creation_date           99650 non-null  object \n",
      " 13  review_answer_timestamp        99650 non-null  object \n",
      " 14  payment_sequential             99649 non-null  float64\n",
      " 15  payment_type                   99649 non-null  object \n",
      " 16  payment_installments           99649 non-null  float64\n",
      " 17  payment_value                  99649 non-null  float64\n",
      " 18  order_item_id                  98874 non-null  float64\n",
      " 19  product_id                     98874 non-null  object \n",
      " 20  seller_id                      98874 non-null  object \n",
      " 21  shipping_limit_date            98874 non-null  object \n",
      " 22  price                          98874 non-null  float64\n",
      " 23  freight_value                  98874 non-null  float64\n",
      " 24  product_category_name          97454 non-null  object \n",
      " 25  product_name_lenght            97454 non-null  float64\n",
      " 26  product_description_lenght     97454 non-null  float64\n",
      " 27  product_photos_qty             97454 non-null  float64\n",
      " 28  product_weight_g               98858 non-null  float64\n",
      " 29  product_length_cm              98858 non-null  float64\n",
      " 30  product_height_cm              98858 non-null  float64\n",
      " 31  product_width_cm               98858 non-null  float64\n",
      "dtypes: float64(13), int64(1), object(18)\n",
      "memory usage: 25.1+ MB\n"
     ]
    }
   ],
   "source": [
    "olist_merge.info()"
   ]
  },
  {
   "cell_type": "code",
   "execution_count": 6,
   "metadata": {},
   "outputs": [],
   "source": [
    "dataAnalysis = pd.DataFrame(olist_merge[['order_status','order_purchase_timestamp', 'order_approved_at', 'order_delivered_customer_date', 'order_estimated_delivery_date', 'review_score', 'payment_installments', 'payment_value', 'freight_value', 'product_category_name']])"
   ]
  },
  {
   "cell_type": "code",
   "execution_count": 7,
   "metadata": {},
   "outputs": [
    {
     "name": "stdout",
     "output_type": "stream",
     "text": [
      "<class 'pandas.core.frame.DataFrame'>\n",
      "Int64Index: 99650 entries, 0 to 119150\n",
      "Data columns (total 10 columns):\n",
      " #   Column                         Non-Null Count  Dtype  \n",
      "---  ------                         --------------  -----  \n",
      " 0   order_status                   99650 non-null  object \n",
      " 1   order_purchase_timestamp       99650 non-null  object \n",
      " 2   order_approved_at              99490 non-null  object \n",
      " 3   order_delivered_customer_date  96672 non-null  object \n",
      " 4   order_estimated_delivery_date  99650 non-null  object \n",
      " 5   review_score                   99650 non-null  int64  \n",
      " 6   payment_installments           99649 non-null  float64\n",
      " 7   payment_value                  99649 non-null  float64\n",
      " 8   freight_value                  98874 non-null  float64\n",
      " 9   product_category_name          97454 non-null  object \n",
      "dtypes: float64(3), int64(1), object(6)\n",
      "memory usage: 8.4+ MB\n"
     ]
    }
   ],
   "source": [
    "dataAnalysis.info()"
   ]
  },
  {
   "cell_type": "code",
   "execution_count": 8,
   "metadata": {},
   "outputs": [],
   "source": [
    "# Creating a list of the time related variables \n",
    "time = [\"order_purchase_timestamp\",\"order_estimated_delivery_date\",\"order_delivered_customer_date\", \"order_approved_at\"]\n",
    "# Changing the time related variables to datetime format using the list \n",
    "for column in time:\n",
    "    dataAnalysis.loc[:, column] = pd.to_datetime(dataAnalysis[column])"
   ]
  },
  {
   "cell_type": "code",
   "execution_count": 9,
   "metadata": {},
   "outputs": [],
   "source": [
    "# Calculating the actual wait time    \n",
    "dataAnalysis.loc[:,\"actual_wait_time\"] = (dataAnalysis['order_delivered_customer_date']-dataAnalysis['order_purchase_timestamp']).dt.days"
   ]
  },
  {
   "cell_type": "code",
   "execution_count": 10,
   "metadata": {},
   "outputs": [],
   "source": [
    "# Calculating the estimated wait time \n",
    "dataAnalysis.loc[:,\"estimated_wait_time\"] = (dataAnalysis['order_estimated_delivery_date']-dataAnalysis['order_purchase_timestamp']).dt.days"
   ]
  },
  {
   "cell_type": "code",
   "execution_count": 11,
   "metadata": {},
   "outputs": [],
   "source": [
    "#Actual minus estimated wait time \n",
    "dataAnalysis.loc[:,\"actualxestimated\"] = (dataAnalysis['actual_wait_time']-dataAnalysis['estimated_wait_time'])"
   ]
  },
  {
   "cell_type": "code",
   "execution_count": 12,
   "metadata": {},
   "outputs": [
    {
     "name": "stdout",
     "output_type": "stream",
     "text": [
      "<class 'pandas.core.frame.DataFrame'>\n",
      "Int64Index: 99650 entries, 0 to 119150\n",
      "Data columns (total 13 columns):\n",
      " #   Column                         Non-Null Count  Dtype         \n",
      "---  ------                         --------------  -----         \n",
      " 0   order_status                   99650 non-null  object        \n",
      " 1   order_purchase_timestamp       99650 non-null  datetime64[ns]\n",
      " 2   order_approved_at              99490 non-null  datetime64[ns]\n",
      " 3   order_delivered_customer_date  96672 non-null  datetime64[ns]\n",
      " 4   order_estimated_delivery_date  99650 non-null  datetime64[ns]\n",
      " 5   review_score                   99650 non-null  int64         \n",
      " 6   payment_installments           99649 non-null  float64       \n",
      " 7   payment_value                  99649 non-null  float64       \n",
      " 8   freight_value                  98874 non-null  float64       \n",
      " 9   product_category_name          97454 non-null  object        \n",
      " 10  actual_wait_time               96672 non-null  float64       \n",
      " 11  estimated_wait_time            99650 non-null  int64         \n",
      " 12  actualxestimated               96672 non-null  float64       \n",
      "dtypes: datetime64[ns](4), float64(5), int64(2), object(2)\n",
      "memory usage: 10.6+ MB\n"
     ]
    }
   ],
   "source": [
    "dataAnalysis.info()"
   ]
  },
  {
   "cell_type": "code",
   "execution_count": 13,
   "metadata": {},
   "outputs": [],
   "source": [
    "dataAnalysis.drop(columns = ['order_purchase_timestamp', 'order_approved_at', 'order_delivered_customer_date', 'order_estimated_delivery_date', 'estimated_wait_time'], inplace = True)"
   ]
  },
  {
   "cell_type": "code",
   "execution_count": 14,
   "metadata": {},
   "outputs": [
    {
     "name": "stdout",
     "output_type": "stream",
     "text": [
      "<class 'pandas.core.frame.DataFrame'>\n",
      "Int64Index: 99650 entries, 0 to 119150\n",
      "Data columns (total 8 columns):\n",
      " #   Column                 Non-Null Count  Dtype  \n",
      "---  ------                 --------------  -----  \n",
      " 0   order_status           99650 non-null  object \n",
      " 1   review_score           99650 non-null  int64  \n",
      " 2   payment_installments   99649 non-null  float64\n",
      " 3   payment_value          99649 non-null  float64\n",
      " 4   freight_value          98874 non-null  float64\n",
      " 5   product_category_name  97454 non-null  object \n",
      " 6   actual_wait_time       96672 non-null  float64\n",
      " 7   actualxestimated       96672 non-null  float64\n",
      "dtypes: float64(5), int64(1), object(2)\n",
      "memory usage: 6.8+ MB\n"
     ]
    }
   ],
   "source": [
    "dataAnalysis.info()"
   ]
  },
  {
   "cell_type": "markdown",
   "metadata": {},
   "source": [
    "### Further analysis of predictors\n",
    "Categorical types: Order Status\n",
    "<br>\n",
    "Numerical types: payment installments, payment value, freight value, actual wait time, actualxestimated \n",
    "\n",
    "When conducting multi variate analysis, it is important to know which variables are categorical and which are numerical. \n",
    "\n",
    "The numerical types are dependent on the order status being delivered. Hence, it needs to be filtered. "
   ]
  },
  {
   "cell_type": "code",
   "execution_count": 15,
   "metadata": {},
   "outputs": [],
   "source": [
    "dataAnalysis = dataAnalysis.loc[(dataAnalysis[\"order_status\"]==\"delivered\")]"
   ]
  },
  {
   "cell_type": "code",
   "execution_count": 16,
   "metadata": {},
   "outputs": [
    {
     "name": "stdout",
     "output_type": "stream",
     "text": [
      "<class 'pandas.core.frame.DataFrame'>\n",
      "Int64Index: 96674 entries, 0 to 119150\n",
      "Data columns (total 8 columns):\n",
      " #   Column                 Non-Null Count  Dtype  \n",
      "---  ------                 --------------  -----  \n",
      " 0   order_status           96674 non-null  object \n",
      " 1   review_score           96674 non-null  int64  \n",
      " 2   payment_installments   96673 non-null  float64\n",
      " 3   payment_value          96673 non-null  float64\n",
      " 4   freight_value          96674 non-null  float64\n",
      " 5   product_category_name  95312 non-null  object \n",
      " 6   actual_wait_time       96666 non-null  float64\n",
      " 7   actualxestimated       96666 non-null  float64\n",
      "dtypes: float64(5), int64(1), object(2)\n",
      "memory usage: 6.6+ MB\n"
     ]
    }
   ],
   "source": [
    "dataAnalysis.info()"
   ]
  },
  {
   "cell_type": "markdown",
   "metadata": {},
   "source": [
    "### Class balancing for review score into low and high review score \n",
    "Review score 1 and 2 classified as low (0) <br>\n",
    "Review score 3 to 5 classified as high (1)\n",
    "\n",
    "This is to reduce the class imbalance seen. \n",
    "Additionally, based on the predictor single variate analysis done in previous parts, this split seems best. "
   ]
  },
  {
   "cell_type": "code",
   "execution_count": 17,
   "metadata": {},
   "outputs": [
    {
     "data": {
      "text/plain": [
       "<seaborn.axisgrid.FacetGrid at 0x1ec034d89a0>"
      ]
     },
     "execution_count": 17,
     "metadata": {},
     "output_type": "execute_result"
    },
    {
     "data": {
      "image/png": "[encoded data removed]",
      "text/plain": [
       "<Figure size 360x360 with 1 Axes>"
      ]
     },
     "metadata": {},
     "output_type": "display_data"
    }
   ],
   "source": [
    "sb.catplot(y = \"review_score\", data = dataAnalysis, kind = \"count\")"
   ]
  },
  {
   "cell_type": "markdown",
   "metadata": {},
   "source": [
    "From the above graph, the review score of 5 is significantly in larger numbers than the other review score. \n",
    "The review score is floor divided by 3.5. This is because \n",
    "1//3 = 0 <br>\n",
    "2//3 = 0 <br>\n",
    "3//3 = 1 <br>\n",
    "4//3 = 1 <br>\n",
    "5//3 = 1 <br>\n",
    "This allows us to not use a if statement which can help reduce time complexity. "
   ]
  },
  {
   "cell_type": "code",
   "execution_count": 18,
   "metadata": {},
   "outputs": [],
   "source": [
    "# Calculating the actual wait time    \n",
    "dataAnalysis.loc[:,\"reviewscore\"] = dataAnalysis[\"review_score\"]//3"
   ]
  },
  {
   "cell_type": "code",
   "execution_count": 19,
   "metadata": {},
   "outputs": [
    {
     "data": {
      "text/plain": [
       "<seaborn.axisgrid.FacetGrid at 0x1ec734c2040>"
      ]
     },
     "execution_count": 19,
     "metadata": {},
     "output_type": "execute_result"
    },
    {
     "data": {
      "image/png": "[encoded data removed]",
      "text/plain": [
       "<Figure size 360x360 with 1 Axes>"
      ]
     },
     "metadata": {},
     "output_type": "display_data"
    }
   ],
   "source": [
    "sb.catplot(y = \"reviewscore\", data = dataAnalysis, kind = \"count\")"
   ]
  },
  {
   "cell_type": "markdown",
   "metadata": {},
   "source": [
    "The data is still imbalanced. However, it will be further balanced after being split into the different top ten product categories. "
   ]
  },
  {
   "cell_type": "code",
   "execution_count": 20,
   "metadata": {},
   "outputs": [],
   "source": [
    "# Original review score no longer needed\n",
    "dataAnalysis.drop(columns = ['review_score'], inplace = True)"
   ]
  },
  {
   "cell_type": "markdown",
   "metadata": {},
   "source": [
    "#### Next, narrowing down to the top ten products\n",
    "`Houseware`, `auto`, `furniture decor`, `computer accessories`, `health beauty`, `sports leisure`"
   ]
  },
  {
   "cell_type": "code",
   "execution_count": 21,
   "metadata": {},
   "outputs": [],
   "source": [
    "#merging with english name first \n",
    "dataAnalysis = pd.merge(dataAnalysis,product_category_name_translation,how=\"left\",on=\"product_category_name\")"
   ]
  },
  {
   "cell_type": "code",
   "execution_count": 22,
   "metadata": {},
   "outputs": [
    {
     "name": "stdout",
     "output_type": "stream",
     "text": [
      "<class 'pandas.core.frame.DataFrame'>\n",
      "Int64Index: 96674 entries, 0 to 96673\n",
      "Data columns (total 9 columns):\n",
      " #   Column                         Non-Null Count  Dtype  \n",
      "---  ------                         --------------  -----  \n",
      " 0   order_status                   96674 non-null  object \n",
      " 1   payment_installments           96673 non-null  float64\n",
      " 2   payment_value                  96673 non-null  float64\n",
      " 3   freight_value                  96674 non-null  float64\n",
      " 4   product_category_name          95312 non-null  object \n",
      " 5   actual_wait_time               96666 non-null  float64\n",
      " 6   actualxestimated               96666 non-null  float64\n",
      " 7   reviewscore                    96674 non-null  int64  \n",
      " 8   product_category_name_english  95293 non-null  object \n",
      "dtypes: float64(5), int64(1), object(3)\n",
      "memory usage: 7.4+ MB\n"
     ]
    }
   ],
   "source": [
    "dataAnalysis.info()"
   ]
  },
  {
   "cell_type": "code",
   "execution_count": 23,
   "metadata": {},
   "outputs": [
    {
     "name": "stdout",
     "output_type": "stream",
     "text": [
      "<class 'pandas.core.frame.DataFrame'>\n",
      "Int64Index: 10024 entries, 0 to 68615\n",
      "Data columns (total 9 columns):\n",
      " #   Column                         Non-Null Count  Dtype  \n",
      "---  ------                         --------------  -----  \n",
      " 0   order_status                   10024 non-null  object \n",
      " 1   payment_installments           10024 non-null  float64\n",
      " 2   payment_value                  10024 non-null  float64\n",
      " 3   freight_value                  10024 non-null  float64\n",
      " 4   product_category_name          10024 non-null  object \n",
      " 5   actual_wait_time               10024 non-null  float64\n",
      " 6   actualxestimated               10024 non-null  float64\n",
      " 7   reviewscore                    10024 non-null  int64  \n",
      " 8   product_category_name_english  10024 non-null  object \n",
      "dtypes: float64(5), int64(1), object(3)\n",
      "memory usage: 783.1+ KB\n"
     ]
    }
   ],
   "source": [
    "housewareProd = dataAnalysis.loc[(dataAnalysis[\"product_category_name_english\"]==\"housewares\")]\n",
    "\n",
    "# Defining a balance function to balance the two classes\n",
    "def balancing(dataframe):\n",
    "    # Class count\n",
    "    count_class_1, count_class_0 = dataframe.reviewscore.value_counts() #split the dataframe based on review scores into 1 and 0\n",
    "\n",
    "    # Divide by class 1 and 0 to create two different dataframes\n",
    "    df_class_0 = dataframe[dataframe['reviewscore'] == 0] \n",
    "    df_class_1 = dataframe[dataframe['reviewscore'] == 1]\n",
    "\n",
    "    #Sample the class 0 (review score 0) by the number of review 1s\n",
    "    df_class_0_over = df_class_0.sample(count_class_1, replace=True)\n",
    "    dataframe = pd.concat([df_class_1, df_class_0_over], axis=0)\n",
    "    return dataframe #return the dataframe\n",
    "\n",
    "housewareProd = balancing(housewareProd)\n",
    "housewareProd.info()\n",
    "# since there is no null values, no further cleaning is required. "
   ]
  },
  {
   "cell_type": "code",
   "execution_count": 24,
   "metadata": {},
   "outputs": [
    {
     "data": {
      "text/plain": [
       "<seaborn.axisgrid.FacetGrid at 0x1ec024c8790>"
      ]
     },
     "execution_count": 24,
     "metadata": {},
     "output_type": "execute_result"
    },
    {
     "data": {
      "image/png": "[encoded data removed]",
      "text/plain": [
       "<Figure size 360x360 with 1 Axes>"
      ]
     },
     "metadata": {},
     "output_type": "display_data"
    }
   ],
   "source": [
    "sb.catplot(y = \"reviewscore\", data = housewareProd, kind = \"count\") #double check if the classes are balanced. "
   ]
  },
  {
   "cell_type": "code",
   "execution_count": 25,
   "metadata": {},
   "outputs": [
    {
     "name": "stdout",
     "output_type": "stream",
     "text": [
      "<class 'pandas.core.frame.DataFrame'>\n",
      "Int64Index: 3797 entries, 2 to 96645\n",
      "Data columns (total 9 columns):\n",
      " #   Column                         Non-Null Count  Dtype  \n",
      "---  ------                         --------------  -----  \n",
      " 0   order_status                   3797 non-null   object \n",
      " 1   payment_installments           3797 non-null   float64\n",
      " 2   payment_value                  3797 non-null   float64\n",
      " 3   freight_value                  3797 non-null   float64\n",
      " 4   product_category_name          3797 non-null   object \n",
      " 5   actual_wait_time               3796 non-null   float64\n",
      " 6   actualxestimated               3796 non-null   float64\n",
      " 7   reviewscore                    3797 non-null   int64  \n",
      " 8   product_category_name_english  3797 non-null   object \n",
      "dtypes: float64(5), int64(1), object(3)\n",
      "memory usage: 296.6+ KB\n"
     ]
    }
   ],
   "source": [
    "autoProd = dataAnalysis.loc[(dataAnalysis[\"product_category_name_english\"]==\"auto\")]\n",
    "autoProd.info()"
   ]
  },
  {
   "cell_type": "code",
   "execution_count": 26,
   "metadata": {},
   "outputs": [
    {
     "name": "stdout",
     "output_type": "stream",
     "text": [
      "<class 'pandas.core.frame.DataFrame'>\n",
      "Int64Index: 3796 entries, 2 to 96645\n",
      "Data columns (total 9 columns):\n",
      " #   Column                         Non-Null Count  Dtype  \n",
      "---  ------                         --------------  -----  \n",
      " 0   order_status                   3796 non-null   object \n",
      " 1   payment_installments           3796 non-null   float64\n",
      " 2   payment_value                  3796 non-null   float64\n",
      " 3   freight_value                  3796 non-null   float64\n",
      " 4   product_category_name          3796 non-null   object \n",
      " 5   actual_wait_time               3796 non-null   float64\n",
      " 6   actualxestimated               3796 non-null   float64\n",
      " 7   reviewscore                    3796 non-null   int64  \n",
      " 8   product_category_name_english  3796 non-null   object \n",
      "dtypes: float64(5), int64(1), object(3)\n",
      "memory usage: 296.6+ KB\n"
     ]
    }
   ],
   "source": [
    "#Needs cleaning and removal of null values \n",
    "autoProd = autoProd.loc[(autoProd[\"actual_wait_time\"].notnull())]\n",
    "autoProd.info()\n",
    "autoProd=balancing(autoProd)"
   ]
  },
  {
   "cell_type": "code",
   "execution_count": 27,
   "metadata": {},
   "outputs": [
    {
     "data": {
      "text/plain": [
       "<seaborn.axisgrid.FacetGrid at 0x1ec024d2cd0>"
      ]
     },
     "execution_count": 27,
     "metadata": {},
     "output_type": "execute_result"
    },
    {
     "data": {
      "image/png": "[encoded data removed]",
      "text/plain": [
       "<Figure size 360x360 with 1 Axes>"
      ]
     },
     "metadata": {},
     "output_type": "display_data"
    }
   ],
   "source": [
    "sb.catplot(y = \"reviewscore\", data = autoProd, kind = \"count\")"
   ]
  },
  {
   "cell_type": "code",
   "execution_count": 28,
   "metadata": {},
   "outputs": [
    {
     "name": "stdout",
     "output_type": "stream",
     "text": [
      "<class 'pandas.core.frame.DataFrame'>\n",
      "Int64Index: 6238 entries, 7 to 96668\n",
      "Data columns (total 9 columns):\n",
      " #   Column                         Non-Null Count  Dtype  \n",
      "---  ------                         --------------  -----  \n",
      " 0   order_status                   6238 non-null   object \n",
      " 1   payment_installments           6238 non-null   float64\n",
      " 2   payment_value                  6238 non-null   float64\n",
      " 3   freight_value                  6238 non-null   float64\n",
      " 4   product_category_name          6238 non-null   object \n",
      " 5   actual_wait_time               6238 non-null   float64\n",
      " 6   actualxestimated               6238 non-null   float64\n",
      " 7   reviewscore                    6238 non-null   int64  \n",
      " 8   product_category_name_english  6238 non-null   object \n",
      "dtypes: float64(5), int64(1), object(3)\n",
      "memory usage: 487.3+ KB\n"
     ]
    }
   ],
   "source": [
    "#No need further cleaning\n",
    "furnitureProd = dataAnalysis.loc[(dataAnalysis[\"product_category_name_english\"]==\"furniture_decor\")]\n",
    "furnitureProd.info()\n",
    "\n",
    "furnitureProd = balancing(furnitureProd)"
   ]
  },
  {
   "cell_type": "code",
   "execution_count": 29,
   "metadata": {},
   "outputs": [
    {
     "data": {
      "text/plain": [
       "<seaborn.axisgrid.FacetGrid at 0x1ec02100280>"
      ]
     },
     "execution_count": 29,
     "metadata": {},
     "output_type": "execute_result"
    },
    {
     "data": {
      "image/png": "[encoded data removed]",
      "text/plain": [
       "<Figure size 360x360 with 1 Axes>"
      ]
     },
     "metadata": {},
     "output_type": "display_data"
    }
   ],
   "source": [
    "sb.catplot(y = \"reviewscore\", data = furnitureProd, kind = \"count\")"
   ]
  },
  {
   "cell_type": "code",
   "execution_count": 30,
   "metadata": {},
   "outputs": [
    {
     "name": "stdout",
     "output_type": "stream",
     "text": [
      "<class 'pandas.core.frame.DataFrame'>\n",
      "Int64Index: 6522 entries, 10 to 96672\n",
      "Data columns (total 9 columns):\n",
      " #   Column                         Non-Null Count  Dtype  \n",
      "---  ------                         --------------  -----  \n",
      " 0   order_status                   6522 non-null   object \n",
      " 1   payment_installments           6522 non-null   float64\n",
      " 2   payment_value                  6522 non-null   float64\n",
      " 3   freight_value                  6522 non-null   float64\n",
      " 4   product_category_name          6522 non-null   object \n",
      " 5   actual_wait_time               6521 non-null   float64\n",
      " 6   actualxestimated               6521 non-null   float64\n",
      " 7   reviewscore                    6522 non-null   int64  \n",
      " 8   product_category_name_english  6522 non-null   object \n",
      "dtypes: float64(5), int64(1), object(3)\n",
      "memory usage: 509.5+ KB\n"
     ]
    }
   ],
   "source": [
    "CompAcProd = dataAnalysis.loc[(dataAnalysis[\"product_category_name_english\"]==\"computers_accessories\")]\n",
    "CompAcProd.info()"
   ]
  },
  {
   "cell_type": "code",
   "execution_count": 31,
   "metadata": {},
   "outputs": [
    {
     "name": "stdout",
     "output_type": "stream",
     "text": [
      "<class 'pandas.core.frame.DataFrame'>\n",
      "Int64Index: 6521 entries, 10 to 96672\n",
      "Data columns (total 9 columns):\n",
      " #   Column                         Non-Null Count  Dtype  \n",
      "---  ------                         --------------  -----  \n",
      " 0   order_status                   6521 non-null   object \n",
      " 1   payment_installments           6521 non-null   float64\n",
      " 2   payment_value                  6521 non-null   float64\n",
      " 3   freight_value                  6521 non-null   float64\n",
      " 4   product_category_name          6521 non-null   object \n",
      " 5   actual_wait_time               6521 non-null   float64\n",
      " 6   actualxestimated               6521 non-null   float64\n",
      " 7   reviewscore                    6521 non-null   int64  \n",
      " 8   product_category_name_english  6521 non-null   object \n",
      "dtypes: float64(5), int64(1), object(3)\n",
      "memory usage: 509.5+ KB\n"
     ]
    }
   ],
   "source": [
    "#Needs cleaning and removal of null values \n",
    "CompAcProd = CompAcProd.loc[(CompAcProd[\"actual_wait_time\"].notnull())]\n",
    "CompAcProd.info()\n",
    "CompAcProd=balancing(CompAcProd)"
   ]
  },
  {
   "cell_type": "code",
   "execution_count": 32,
   "metadata": {},
   "outputs": [
    {
     "data": {
      "text/plain": [
       "<seaborn.axisgrid.FacetGrid at 0x1ec0209ad90>"
      ]
     },
     "execution_count": 32,
     "metadata": {},
     "output_type": "execute_result"
    },
    {
     "data": {
      "image/png": "[encoded data removed]",
      "text/plain": [
       "<Figure size 360x360 with 1 Axes>"
      ]
     },
     "metadata": {},
     "output_type": "display_data"
    }
   ],
   "source": [
    "sb.catplot(y = \"reviewscore\", data = CompAcProd, kind = \"count\")"
   ]
  },
  {
   "cell_type": "code",
   "execution_count": 33,
   "metadata": {},
   "outputs": [
    {
     "name": "stdout",
     "output_type": "stream",
     "text": [
      "<class 'pandas.core.frame.DataFrame'>\n",
      "Int64Index: 8621 entries, 19 to 96673\n",
      "Data columns (total 9 columns):\n",
      " #   Column                         Non-Null Count  Dtype  \n",
      "---  ------                         --------------  -----  \n",
      " 0   order_status                   8621 non-null   object \n",
      " 1   payment_installments           8620 non-null   float64\n",
      " 2   payment_value                  8620 non-null   float64\n",
      " 3   freight_value                  8621 non-null   float64\n",
      " 4   product_category_name          8621 non-null   object \n",
      " 5   actual_wait_time               8621 non-null   float64\n",
      " 6   actualxestimated               8621 non-null   float64\n",
      " 7   reviewscore                    8621 non-null   int64  \n",
      " 8   product_category_name_english  8621 non-null   object \n",
      "dtypes: float64(5), int64(1), object(3)\n",
      "memory usage: 673.5+ KB\n"
     ]
    }
   ],
   "source": [
    "healthProd = dataAnalysis.loc[(dataAnalysis[\"product_category_name_english\"]==\"health_beauty\")]\n",
    "healthProd.info()"
   ]
  },
  {
   "cell_type": "code",
   "execution_count": 34,
   "metadata": {},
   "outputs": [
    {
     "name": "stdout",
     "output_type": "stream",
     "text": [
      "<class 'pandas.core.frame.DataFrame'>\n",
      "Int64Index: 8620 entries, 19 to 96673\n",
      "Data columns (total 9 columns):\n",
      " #   Column                         Non-Null Count  Dtype  \n",
      "---  ------                         --------------  -----  \n",
      " 0   order_status                   8620 non-null   object \n",
      " 1   payment_installments           8620 non-null   float64\n",
      " 2   payment_value                  8620 non-null   float64\n",
      " 3   freight_value                  8620 non-null   float64\n",
      " 4   product_category_name          8620 non-null   object \n",
      " 5   actual_wait_time               8620 non-null   float64\n",
      " 6   actualxestimated               8620 non-null   float64\n",
      " 7   reviewscore                    8620 non-null   int64  \n",
      " 8   product_category_name_english  8620 non-null   object \n",
      "dtypes: float64(5), int64(1), object(3)\n",
      "memory usage: 673.4+ KB\n"
     ]
    }
   ],
   "source": [
    "#Needs further cleaning \n",
    "healthProd = healthProd.loc[(healthProd[\"payment_installments\"].notnull())]\n",
    "healthProd.info()\n",
    "healthProd=balancing(healthProd)"
   ]
  },
  {
   "cell_type": "code",
   "execution_count": 35,
   "metadata": {},
   "outputs": [
    {
     "data": {
      "text/plain": [
       "<seaborn.axisgrid.FacetGrid at 0x1ec024f8970>"
      ]
     },
     "execution_count": 35,
     "metadata": {},
     "output_type": "execute_result"
    },
    {
     "data": {
      "image/png": "[encoded data removed]",
      "text/plain": [
       "<Figure size 360x360 with 1 Axes>"
      ]
     },
     "metadata": {},
     "output_type": "display_data"
    }
   ],
   "source": [
    "sb.catplot(y = \"reviewscore\", data = healthProd, kind = \"count\")"
   ]
  },
  {
   "cell_type": "code",
   "execution_count": 36,
   "metadata": {},
   "outputs": [
    {
     "name": "stdout",
     "output_type": "stream",
     "text": [
      "<class 'pandas.core.frame.DataFrame'>\n",
      "Int64Index: 7504 entries, 41 to 96663\n",
      "Data columns (total 9 columns):\n",
      " #   Column                         Non-Null Count  Dtype  \n",
      "---  ------                         --------------  -----  \n",
      " 0   order_status                   7504 non-null   object \n",
      " 1   payment_installments           7504 non-null   float64\n",
      " 2   payment_value                  7504 non-null   float64\n",
      " 3   freight_value                  7504 non-null   float64\n",
      " 4   product_category_name          7504 non-null   object \n",
      " 5   actual_wait_time               7503 non-null   float64\n",
      " 6   actualxestimated               7503 non-null   float64\n",
      " 7   reviewscore                    7504 non-null   int64  \n",
      " 8   product_category_name_english  7504 non-null   object \n",
      "dtypes: float64(5), int64(1), object(3)\n",
      "memory usage: 586.2+ KB\n"
     ]
    }
   ],
   "source": [
    "sportsProd = dataAnalysis.loc[(dataAnalysis[\"product_category_name_english\"]==\"sports_leisure\")]\n",
    "sportsProd.info()"
   ]
  },
  {
   "cell_type": "code",
   "execution_count": 37,
   "metadata": {},
   "outputs": [
    {
     "name": "stdout",
     "output_type": "stream",
     "text": [
      "<class 'pandas.core.frame.DataFrame'>\n",
      "Int64Index: 7503 entries, 41 to 96663\n",
      "Data columns (total 9 columns):\n",
      " #   Column                         Non-Null Count  Dtype  \n",
      "---  ------                         --------------  -----  \n",
      " 0   order_status                   7503 non-null   object \n",
      " 1   payment_installments           7503 non-null   float64\n",
      " 2   payment_value                  7503 non-null   float64\n",
      " 3   freight_value                  7503 non-null   float64\n",
      " 4   product_category_name          7503 non-null   object \n",
      " 5   actual_wait_time               7503 non-null   float64\n",
      " 6   actualxestimated               7503 non-null   float64\n",
      " 7   reviewscore                    7503 non-null   int64  \n",
      " 8   product_category_name_english  7503 non-null   object \n",
      "dtypes: float64(5), int64(1), object(3)\n",
      "memory usage: 586.2+ KB\n"
     ]
    }
   ],
   "source": [
    "#Needs further cleaning \n",
    "sportsProd = sportsProd.loc[(sportsProd[\"actual_wait_time\"].notnull())]\n",
    "sportsProd.info()\n",
    "sportsProd=balancing(sportsProd)"
   ]
  },
  {
   "cell_type": "code",
   "execution_count": 38,
   "metadata": {},
   "outputs": [
    {
     "data": {
      "text/plain": [
       "<seaborn.axisgrid.FacetGrid at 0x1ec01f64eb0>"
      ]
     },
     "execution_count": 38,
     "metadata": {},
     "output_type": "execute_result"
    },
    {
     "data": {
      "image/png": "[encoded data removed]",
      "text/plain": [
       "<Figure size 360x360 with 1 Axes>"
      ]
     },
     "metadata": {},
     "output_type": "display_data"
    }
   ],
   "source": [
    "sb.catplot(y = \"reviewscore\", data = sportsProd, kind = \"count\")"
   ]
  },
  {
   "cell_type": "markdown",
   "metadata": {},
   "source": [
    "#### Desicion tree on the product types \n",
    "`Houseware`, `auto`, `furniture decor`, `computer accessories`, `health beauty`, `sports leisure`"
   ]
  },
  {
   "cell_type": "code",
   "execution_count": 39,
   "metadata": {},
   "outputs": [],
   "source": [
    "def train_and_predict(dataframe):\n",
    "    # Import essential models and functions from sklearn\n",
    "    from sklearn.tree import DecisionTreeClassifier\n",
    "    from sklearn.model_selection import train_test_split\n",
    "    from sklearn.metrics import confusion_matrix\n",
    "\n",
    "    # Extract Response and Predictors\n",
    "    y = pd.DataFrame(dataframe['reviewscore'])\n",
    "    X = pd.DataFrame(dataframe[[\"payment_installments\", \"payment_value\", \"freight_value\", \"actual_wait_time\", \"actualxestimated\"]]) \n",
    "\n",
    "    # Split the Dataset into Train and Test\n",
    "    X_train, X_test, y_train, y_test = train_test_split(X, y, test_size = 0.25)\n",
    "\n",
    "    # Import RandomForestClassifier model from Scikit-Learn\n",
    "    from sklearn.ensemble import RandomForestClassifier\n",
    "\n",
    "    # Create the Random Forest object\n",
    "    rforest = RandomForestClassifier(n_estimators = 1000,  # n_estimators denote number of trees\n",
    "                                     max_depth = 10)       # set the maximum depth of each tree\n",
    "\n",
    "    # Fit Random Forest on Train Data\n",
    "    rforest.fit(X_train, y_train.reviewscore.ravel())\n",
    "\n",
    "    # Predict the Response corresponding to Predictors\n",
    "    y_train_pred = rforest.predict(X_train)\n",
    "    y_test_pred = rforest.predict(X_test)\n",
    "    \n",
    "    # Check the Goodness of Fit (on Train Data)\n",
    "    print(\"Goodness of Fit of Model: Train Dataset\")\n",
    "    print(\"Classification Accuracy : \", rforest.score(X_train, y_train))\n",
    "    confusion_matrix_train = confusion_matrix(y_train, y_train_pred)\n",
    "    TN = confusion_matrix_train[0,0]\n",
    "    TP = confusion_matrix_train[1,1]\n",
    "    FP = confusion_matrix_train[0,1]\n",
    "    FN = confusion_matrix_train[1,0]\n",
    "    print(\"True Negative Rate      : \", TN/(TN+FP))\n",
    "    print(\"True Positive Rate      : \", TP/(TP+FN))\n",
    "    print(\"False Negative Rate     : \", FN/(FN+TP))\n",
    "    print(\"False Positive Rate     : \", FP/(TN+FP))\n",
    "    print()\n",
    "\n",
    "    # Check the Goodness of Fit (on Test Data)\n",
    "    print(\"Goodness of Fit of Model: Test Dataset\")\n",
    "    print(\"Classification Accuracy : \", rforest.score(X_test, y_test))\n",
    "    confusion_matrix_test = confusion_matrix(y_test, y_test_pred)\n",
    "    TN = confusion_matrix_test[0,0]\n",
    "    TP = confusion_matrix_test[1,1]\n",
    "    FP = confusion_matrix_test[0,1]\n",
    "    FN = confusion_matrix_test[1,0]\n",
    "    print(\"True Negative Rate      : \", TN/(TN+FP))\n",
    "    print(\"True Positive Rate      : \", TP/(TP+FN))\n",
    "    print(\"False Negative Rate     : \",FN/(FN+TP))\n",
    "    print(\"False Positive Rate     : \", FP/(TN+FP))\n",
    "\n",
    "    # Plot the Confusion Matrix for Train and Test\n",
    "    f, axes = plt.subplots(1, 2, figsize=(12, 4))\n",
    "    sb.heatmap(confusion_matrix(y_train, y_train_pred),\n",
    "               annot = True, fmt=\".0f\", annot_kws={\"size\": 18}, ax = axes[0])\n",
    "    sb.heatmap(confusion_matrix(y_test, y_test_pred), \n",
    "               annot = True, fmt=\".0f\", annot_kws={\"size\": 18}, ax = axes[1])"
   ]
  },
  {
   "cell_type": "markdown",
   "metadata": {},
   "source": [
    "# Check Point: Analysis \n"
   ]
  },
  {
   "cell_type": "markdown",
   "metadata": {},
   "source": [
    "There is a significant improvement in the performance of the machine learning model when using random forest as opposed to using decision tree. The classification accuracy increases to almost 80% for most product types. Additionally, the false positive rates drop below 30%. However, more can be done to find the hyperparameters which results in the most accurate random forest model being made. "
   ]
  },
  {
   "cell_type": "markdown",
   "metadata": {},
   "source": [
    "**Hyperparameters** \n",
    "Hyperparameters in this case is the `n_estimators` and the `max_depth` which is the number of decision trees in the forest and the maximum depth each tree respectively. Grid Search is used to find the best hyperparameters. "
   ]
  },
  {
   "cell_type": "code",
   "execution_count": 46,
   "metadata": {},
   "outputs": [],
   "source": [
    "def best_hyperparameter(dataframe):\n",
    "    # Import essential models and functions from sklearn\n",
    "    from sklearn.tree import DecisionTreeClassifier\n",
    "    from sklearn.model_selection import train_test_split\n",
    "    from sklearn.metrics import confusion_matrix\n",
    "    # Import RandomForestClassifier model from Scikit-Learn\n",
    "    from sklearn.ensemble import RandomForestClassifier\n",
    "\n",
    "    # Extract Response and Predictors\n",
    "    y = pd.DataFrame(dataframe['reviewscore'])\n",
    "    X = pd.DataFrame(dataframe[[\"payment_installments\", \"payment_value\", \"freight_value\", \"actual_wait_time\", \"actualxestimated\"]]) \n",
    "\n",
    "    # Split the Dataset into Train and Test\n",
    "    X_train, X_test, y_train, y_test = train_test_split(X, y, test_size = 0.25)\n",
    "    # Import GridSearch for hyperparameter tuning using Cross-Validation (CV)\n",
    "    from sklearn.model_selection import GridSearchCV\n",
    "\n",
    "    # Define the Hyper-parameter Grid to search on, in case of Random Forest\n",
    "    param_grid = {'n_estimators': np.arange(100,1001,100),   # number of trees 100, 200, ..., 1000\n",
    "                  'max_depth': np.arange(9, 14)}             # depth of trees 2, 3, 4, 5, ..., 10\n",
    "\n",
    "    # Create the Hyper-parameter Grid\n",
    "    hpGrid = GridSearchCV(RandomForestClassifier(),   # the model family\n",
    "                          param_grid,                 # the search grid\n",
    "                          cv = 5,                     # 5-fold cross-validation\n",
    "                          scoring = 'accuracy')       # score to evaluate\n",
    "\n",
    "    # Train the models using Cross-Validation\n",
    "    hpGrid.fit(X_train, y_train.reviewscore.ravel())\n",
    "    \n",
    "    # Fetch the best Model or the best set of Hyper-parameters\n",
    "    print(hpGrid.best_estimator_)\n",
    "\n",
    "    # Print the score (accuracy) of the best Model after CV\n",
    "    print(np.abs(hpGrid.best_score_))\n"
   ]
  },
  {
   "cell_type": "code",
   "execution_count": 47,
   "metadata": {},
   "outputs": [
    {
     "name": "stdout",
     "output_type": "stream",
     "text": [
      "RandomForestClassifier(max_depth=13, n_estimators=900)\n",
      "0.8931990739150887\n"
     ]
    }
   ],
   "source": [
    "best_hyperparameter(furnitureProd)"
   ]
  },
  {
   "cell_type": "code",
   "execution_count": 48,
   "metadata": {},
   "outputs": [
    {
     "name": "stdout",
     "output_type": "stream",
     "text": [
      "RandomForestClassifier(max_depth=13, n_estimators=800)\n",
      "0.9287220437628945\n"
     ]
    }
   ],
   "source": [
    "best_hyperparameter(healthProd)"
   ]
  },
  {
   "cell_type": "code",
   "execution_count": 49,
   "metadata": {},
   "outputs": [
    {
     "name": "stdout",
     "output_type": "stream",
     "text": [
      "RandomForestClassifier(max_depth=13, n_estimators=300)\n",
      "0.9037411526794742\n"
     ]
    }
   ],
   "source": [
    "best_hyperparameter(autoProd)"
   ]
  },
  {
   "cell_type": "code",
   "execution_count": 50,
   "metadata": {},
   "outputs": [
    {
     "name": "stdout",
     "output_type": "stream",
     "text": [
      "RandomForestClassifier(max_depth=13, n_estimators=700)\n",
      "0.86267602594589\n"
     ]
    }
   ],
   "source": [
    "best_hyperparameter(CompAcProd)"
   ]
  },
  {
   "cell_type": "code",
   "execution_count": 51,
   "metadata": {},
   "outputs": [
    {
     "name": "stdout",
     "output_type": "stream",
     "text": [
      "RandomForestClassifier(max_depth=13, n_estimators=900)\n",
      "0.869412355600201\n"
     ]
    }
   ],
   "source": [
    "best_hyperparameter(sportsProd)"
   ]
  },
  {
   "cell_type": "code",
   "execution_count": 52,
   "metadata": {},
   "outputs": [
    {
     "name": "stdout",
     "output_type": "stream",
     "text": [
      "RandomForestClassifier(max_depth=13, n_estimators=600)\n",
      "0.8761643379906854\n"
     ]
    }
   ],
   "source": [
    "best_hyperparameter(housewareProd)"
   ]
  }
 ],
 "metadata": {
  "kernelspec": {
   "display_name": "Python 3",
   "language": "python",
   "name": "python3"
  },
  "language_info": {
   "codemirror_mode": {
    "name": "ipython",
    "version": 3
   },
   "file_extension": ".py",
   "mimetype": "text/x-python",
   "name": "python",
   "nbconvert_exporter": "python",
   "pygments_lexer": "ipython3",
   "version": "3.8.5"
  }
 },
 "nbformat": 4,
 "nbformat_minor": 4
}
